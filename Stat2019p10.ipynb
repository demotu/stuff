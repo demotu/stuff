{
 "cells": [
  {
   "cell_type": "markdown",
   "metadata": {},
   "source": [
    "# Bioestatística 2019 - prova 10\n",
    "\n",
    "> Marcos Duarte  \n",
    "http://pesquisa.ufabc.edu.br/bmclab/ensino/intro_stat/"
   ]
  },
  {
   "cell_type": "markdown",
   "metadata": {},
   "source": [
    "## Problem  \n",
    "1. Consider the following LDL data from blood samples taken from normal diet patient samples (in mg / dL): 155; 157; 153; 149; 154; 162 and other patients with vegan diet: 155; 151; 151; 140; 155.  \n",
    " a. Formulate statistical hypotheses about the difference between the two groups;  \n",
    " b. Calculate Cohen's d statistic for effect size.  \n",
    " c. Calculate the 95% confidence interval for the difference between the two groups.  \n",
    " d. Take a null hypothesis significance test; adopt a significance level of 0.05.  \n",
    " e. Write a paragraph describing these statistical results (you can use the APA style) and the conclusion on this statistical analysis."
   ]
  },
  {
   "cell_type": "markdown",
   "metadata": {},
   "source": [
    "## Solution"
   ]
  },
  {
   "cell_type": "markdown",
   "metadata": {},
   "source": [
    "a.  \n",
    "Possible hypotheses:\n",
    " - $H_0$: $\\mu_{normal} = \\mu_{vegan}$.  \n",
    " - $H_A$: $\\mu_{normal} \\neq \\mu_{vegan}$.  \n",
    "\n",
    "Comments:  \n",
    "Other possible alternative hypothesis is: $H_A$: $LDL_{normal} > LDL_{vegan}$. We could have adopted this directional hypothesis if for example there is sufficient data in the literature showing such directional effect (and it seems there is, see [Yokoyama et al., 2017](https://www.ncbi.nlm.nih.gov/pmc/articles/PMC5914369/)).  \n",
    "For a discussion about when to adopt directional alternative hypothesis, see for example ([Ruxton & Neuhäuser, 2010](https://besjournals.onlinelibrary.wiley.com/doi/full/10.1111/j.2041-210X.2010.00014.x))."
   ]
  },
  {
   "cell_type": "markdown",
   "metadata": {},
   "source": [
    "b.  \n",
    "Cohen's d statistic for effect size is defined as the ratio between the difference between the means of the groups and the pooled standard deviation:\n",
    "\n",
    "$$ d = \\frac{\\bar x_v - \\bar x_n}{s}  $$\n",
    "\n",
    "Where $s$ is the pooled standard deviation:\n",
    "\n",
    "$$ s_P = \\sqrt {\\frac {(n_{1}-1)s_{1}^{2}+(n_{2}-1)s_{2}^{2}}{n_{1}+n_{2}-2}} $$\n",
    "\n",
    "And the variance $s^2$ (the standard deviation squared) for one of the groups is:\n",
    "\n",
    "$$ s_{1}^{2}={\\frac {1}{n_{1}-1}}\\sum _{i=1}^{n_{1}}(x_{1,i}-{\\bar {x}}_{1})^{2} $$\n",
    "\n",
    "Of course, let's use Python for basic arithmetic operations.  \n",
    "First,let's define some functions (most of them are useless because they already exist in the Python ecosystem):"
   ]
  },
  {
   "cell_type": "code",
   "execution_count": 1,
   "metadata": {},
   "outputs": [],
   "source": [
    "import numpy as np\n",
    "\n",
    "def mean(x):\n",
    "    \"\"\"Compute mean.\n",
    "    \"\"\"\n",
    "    return sum(x)/x.size\n",
    "\n",
    "def var(x):\n",
    "    \"\"\"Compute variance.\n",
    "    \"\"\"\n",
    "    return sum((x - mean(x))**2)/(x.size - 1)\n",
    "\n",
    "def poolstd(x1, x2, show=False):\n",
    "    \"\"\"Compute pooled standard deviation.\n",
    "    \"\"\"\n",
    "    sp = np.sqrt( ((x1.size-1)*var(x1) + (x2.size-1)*var(x2)) / (x1.size+x2.size-2) )\n",
    "    if show:\n",
    "        print(f'The pooled standard deviation between the two samples is {sp:.2f}')\n",
    "    return sp\n",
    "\n",
    "def poolsem(x1, x2, show=False):\n",
    "    \"\"\"Compute pooled standard error of the mean.\n",
    "    \"\"\"\n",
    "    sep = np.sqrt( poolstd(x1, x2)**2/x1.size + poolstd(x1, x2)**2/x2.size )\n",
    "    if show:\n",
    "        print(f'The pooled standard error of the mean between the two samples is {sep:.2f}')\n",
    "    return sep\n",
    "\n",
    "def cohensd(x1, x2, show=False):\n",
    "    \"\"\"Compute Cohen's d statistic for effect size.\n",
    "    \"\"\"\n",
    "    d = np.abs(mean(x1) - mean(x2)) / poolstd(x1, x2)\n",
    "    if show:\n",
    "        print(f'Cohen\\'s d statistic for the samples is {d:.2f}')    \n",
    "    return d\n",
    "\n",
    "def summary(x, name='The sample '):\n",
    "    \"\"\"Display summary statistics.\n",
    "    \"\"\"\n",
    "    print(f'{name} has {x.size} data, mean {mean(x):.2f}, variance {var(x):.2f}.')"
   ]
  },
  {
   "cell_type": "markdown",
   "metadata": {},
   "source": [
    "Now, let's create some variable for the values:"
   ]
  },
  {
   "cell_type": "code",
   "execution_count": 2,
   "metadata": {},
   "outputs": [],
   "source": [
    "xn = np.array([155, 157, 153, 149, 154, 162])\n",
    "xv = np.array([155, 151, 151, 140, 155])"
   ]
  },
  {
   "cell_type": "code",
   "execution_count": 3,
   "metadata": {},
   "outputs": [
    {
     "name": "stdout",
     "output_type": "stream",
     "text": [
      "xn has 6 data, mean 155.00, variance 18.80.\n",
      "xv has 5 data, mean 150.40, variance 37.80.\n",
      "The pooled standard deviation between the two samples is 5.22\n"
     ]
    }
   ],
   "source": [
    "summary(xn, 'xn')\n",
    "summary(xv, 'xv')\n",
    "poolstd(xn, xv, show=True);"
   ]
  },
  {
   "cell_type": "code",
   "execution_count": 4,
   "metadata": {},
   "outputs": [
    {
     "name": "stdout",
     "output_type": "stream",
     "text": [
      "Cohen's d statistic for the samples is 0.88\n"
     ]
    }
   ],
   "source": [
    "d = cohensd(xn, xv, show=True)"
   ]
  },
  {
   "cell_type": "markdown",
   "metadata": {},
   "source": [
    "c.  \n",
    "In general, a 95% confidence interval is defined as:\n",
    "\n",
    "$$ [\\bar x - t_{.95}\\mathit{SE}, \\bar x + t_{.95}\\mathit{SE}]  $$\n",
    "\n",
    "Where $\\bar x$ is the mean of the sample, $t_{.95}$ is the $t$ value for a probability of 95% and $\\mathit{SE}$ is the standard error of the mean (standard deviation divided by square root of the sample size)\n",
    "\n",
    "For the difference between the two groups, the mean is the difference between the groups' means and SE is the pooled SE.\n",
    "\n",
    "The pooled standard error of the mean can be calculated in two different ways:\n",
    "\n",
    "$$ \\mathit{SE}_P = \\sqrt{\\frac{s^2_{1}}{n_1}+\\frac{s^2_{2}}{n_2}} $$\n",
    "\n",
    "and\n",
    "\n",
    "$$ \\mathit{SE}_P = \\sqrt{\\frac{s^2_{P,1}}{n_1}+\\frac{s^2_{P,2}}{n_2}} $$\n",
    "\n",
    "Note that in the second formula the pooled variance was employed.  \n",
    "This latter method is preferred for samples with different sizes or with different variances."
   ]
  },
  {
   "cell_type": "code",
   "execution_count": 5,
   "metadata": {},
   "outputs": [
    {
     "name": "stdout",
     "output_type": "stream",
     "text": [
      "The pooled standard error of the mean between the two samples is 3.16\n"
     ]
    }
   ],
   "source": [
    "sep = poolsem(xn, xv, show=True)"
   ]
  },
  {
   "cell_type": "markdown",
   "metadata": {},
   "source": [
    "For a 95% confidence interval, we want the critic value for the t distribution using a probability of 0.975 (remember 2.5% of the area outside the interval in each side) and degrees of freedom equals to $n_1+n_2-2$.  \n",
    "Using the stats function from the Scipy package:"
   ]
  },
  {
   "cell_type": "code",
   "execution_count": 6,
   "metadata": {},
   "outputs": [
    {
     "name": "stdout",
     "output_type": "stream",
     "text": [
      "Critical t value for p=.95 and df=9: 2.262157\n"
     ]
    }
   ],
   "source": [
    "from scipy import stats\n",
    "t_crit = stats.t.ppf(q=0.975, df=11-2)\n",
    "print(f'Critical t value for p=.95 and df=9: {t_crit:5f}')"
   ]
  },
  {
   "cell_type": "code",
   "execution_count": 7,
   "metadata": {},
   "outputs": [
    {
     "name": "stdout",
     "output_type": "stream",
     "text": [
      "CI95: [-2.550, 11.750] mg/dL\n"
     ]
    }
   ],
   "source": [
    "print(f'CI95: [{(mean(xn)-mean(xv))-t_crit*sep:.3f}, {(mean(xn)-mean(xv))+t_crit*sep:.3f}] mg/dL')"
   ]
  },
  {
   "cell_type": "markdown",
   "metadata": {},
   "source": [
    "d.  \n",
    "For a null hypothesis significance test with $\\alpha=0.05$, we will employ an independent (unpaired) two-tailed t-test:\n",
    "\n",
    "$$ t = \\frac{\\bar x_n - \\bar x_v}{\\mathit{SE}_P}  $$"
   ]
  },
  {
   "cell_type": "code",
   "execution_count": 8,
   "metadata": {},
   "outputs": [
    {
     "name": "stdout",
     "output_type": "stream",
     "text": [
      "t value: 1.455\n"
     ]
    }
   ],
   "source": [
    "t = (mean(xn) - mean(xv))/sep\n",
    "print(f't value: {t:.3f}')"
   ]
  },
  {
   "cell_type": "markdown",
   "metadata": {},
   "source": [
    "And the probability of finding this t value or greater is:"
   ]
  },
  {
   "cell_type": "code",
   "execution_count": 9,
   "metadata": {},
   "outputs": [
    {
     "name": "stdout",
     "output_type": "stream",
     "text": [
      "Probability of finding this t value or greater: 0.090\n"
     ]
    }
   ],
   "source": [
    "p = 1 - stats.t.cdf(x=t, df=11-2)\n",
    "print(f'Probability of finding this t value or greater: {p:.3f}')"
   ]
  },
  {
   "cell_type": "markdown",
   "metadata": {},
   "source": [
    "Since the critical t value for p=.95 and df=9 is 2.262, the calculated t is outside the critical area (the p value is greater than the significance level), we fail to reject (we accept) the null hypothesis."
   ]
  },
  {
   "cell_type": "markdown",
   "metadata": {},
   "source": [
    "e.  \n",
    "\n",
    "There was no significant difference between the LDL values of persons with normal diet and persons with vegan diet (t(9)=1.455, p=0.090, CI95=[-2.550, 11.750] mg/dL, Cohen's d=0.88). \n",
    "\n",
    "The adoption of vegan diet didn't affect LDL values in relation to normal diet (t(9)=1.455, p=0.090, CI95=[-2.550, 11.750] mg/dL, Cohen's d=0.88). \n",
    "\n",
    "No difference was observed between the LDL values of persons with normal diet and persons with vegan diet (t(9)=1.455, p=0.090, CI95=[-2.550, 11.750] mg/dL, Cohen's d=0.88). \n",
    "\n",
    "The difference between the LDL values of persons with normal diet and persons with vegan diet was not statistically significant (t(9)=1.455, p=0.090, CI95=[-2.550, 11.750] mg/dL, Cohen's d=0.88).  \n",
    "\n",
    "With regard to the LDL levels, persons with normal diet and persons with vegan diet are not significantly different (t(9)=1.455, p=0.090, CI95=[-2.550, 11.750] mg/dL, Cohen's d=0.88).  "
   ]
  }
 ],
 "metadata": {
  "kernelspec": {
   "display_name": "Python 3",
   "language": "python",
   "name": "python3"
  },
  "language_info": {
   "codemirror_mode": {
    "name": "ipython",
    "version": 3
   },
   "file_extension": ".py",
   "mimetype": "text/x-python",
   "name": "python",
   "nbconvert_exporter": "python",
   "pygments_lexer": "ipython3",
   "version": "3.7.3"
  }
 },
 "nbformat": 4,
 "nbformat_minor": 4
}
